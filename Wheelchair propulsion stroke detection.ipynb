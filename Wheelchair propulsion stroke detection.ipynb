{
 "cells": [
  {
   "cell_type": "markdown",
   "metadata": {},
   "source": [
    "## Wheelchair propulsion stroke detection\n",
    "1. Load the dataset \n",
    "2. Convert target column to binary value where 'SC'=1 and'A'=0\n",
    "2. Data analysis for classifcation task\n",
    "   a. Missing Values\n",
    "   b. Numeric Distributions (Plot histograms and scatterplot w.r.t target) \n",
    "   c. Create boxplot of each feature\n",
    "3. Split the dataset into train and test datasets\n",
    "4. Feature selection using LASSO\n",
    "5. Model building and selecting the model with highest evaluation metric\n",
    "6. Hyperparameter tuning\n",
    "7. Save the finalized model"
   ]
  },
  {
   "cell_type": "code",
   "execution_count": 37,
   "metadata": {},
   "outputs": [],
   "source": [
    "import pandas as pd\n",
    "import numpy as np\n",
    "from datetime import datetime,timedelta \n",
    "from time import gmtime, strftime\n",
    "from sklearn.model_selection import train_test_split\n",
    "from scipy import stats\n",
    "import scipy.signal\n",
    "from scipy import signal\n",
    "from collections import Counter\n",
    "import matplotlib.pyplot as plt\n",
    "from sklearn.preprocessing import StandardScaler\n",
    "from sklearn.compose import ColumnTransformer\n",
    "%matplotlib inline\n",
    "\n",
    "from sklearn.discriminant_analysis import LinearDiscriminantAnalysis, QuadraticDiscriminantAnalysis\n",
    "from sklearn.linear_model import LogisticRegression\n",
    "from sklearn.tree import DecisionTreeClassifier\n",
    "from sklearn import svm\n",
    "from sklearn.neighbors import KNeighborsClassifier\n",
    "from sklearn.ensemble import RandomForestClassifier\n",
    "from sklearn.linear_model import LinearRegression\n",
    "from sklearn import preprocessing\n",
    "from sklearn.preprocessing import MinMaxScaler\n",
    "from sklearn.cluster import KMeans\n",
    "from sklearn.linear_model import LinearRegression, Ridge,Lasso\n",
    "\n",
    "#For hyperparameter tuning\n",
    "from sklearn.model_selection import GridSearchCV\n",
    "#from skopt import BayesSearchCV\n",
    "from sklearn.svm import SVC\n",
    "#from xgboost import XGBRegressor\n",
    "from sklearn.decomposition import PCA\n",
    "\n",
    "from sklearn.metrics import accuracy_score\n",
    "from sklearn.model_selection import cross_val_score, KFold\n",
    "from sklearn.metrics import confusion_matrix\n",
    "from sklearn.metrics import accuracy_score,confusion_matrix,classification_report\n",
    "from sklearn.metrics import r2_score, mean_absolute_error\n",
    "import seaborn as sns\n",
    "import matplotlib.pyplot as plt\n",
    "from sklearn.metrics import f1_score\n",
    "from sklearn.metrics import mean_squared_error\n",
    "from sklearn.tree import DecisionTreeRegressor\n",
    "from sklearn.compose import TransformedTargetRegressor\n",
    "from sklearn.preprocessing import QuantileTransformer\n",
    "\n",
    "import joblib\n",
    "from scipy.stats import shapiro\n",
    "from scipy.stats import kstest\n",
    "from scipy.stats import anderson\n",
    "from scipy import stats\n",
    "from sklearn import preprocessing"
   ]
  },
  {
   "cell_type": "markdown",
   "metadata": {},
   "source": [
    "#### Data ingestion "
   ]
  },
  {
   "cell_type": "code",
   "execution_count": 38,
   "metadata": {},
   "outputs": [],
   "source": [
    "df=pd.read_csv('R:/veerua01lab/veerua01labspace/Neha Ingale/Wheelchair propulsion/Data/W01_W02_W03_12_14.csv')"
   ]
  },
  {
   "cell_type": "code",
   "execution_count": 39,
   "metadata": {
    "scrolled": true
   },
   "outputs": [
    {
     "data": {
      "text/plain": [
       "65"
      ]
     },
     "execution_count": 39,
     "metadata": {},
     "output_type": "execute_result"
    }
   ],
   "source": [
    "len(df.columns)"
   ]
  },
  {
   "cell_type": "code",
   "execution_count": 40,
   "metadata": {},
   "outputs": [],
   "source": [
    "df=df.drop('Unnamed: 0', axis=1)"
   ]
  },
  {
   "cell_type": "code",
   "execution_count": 41,
   "metadata": {},
   "outputs": [
    {
     "data": {
      "text/plain": [
       "(129, 64)"
      ]
     },
     "execution_count": 41,
     "metadata": {},
     "output_type": "execute_result"
    }
   ],
   "source": [
    "pd.pandas.set_option('display.max_columns',None)\n",
    "df.shape"
   ]
  },
  {
   "cell_type": "markdown",
   "metadata": {},
   "source": [
    "**Target column is a categorical variable\n",
    "Convert Target column (categorical variable) to binary values where 'SC'= 1 and 'A' = 0**"
   ]
  },
  {
   "cell_type": "code",
   "execution_count": 42,
   "metadata": {},
   "outputs": [],
   "source": [
    "labels=pd.DataFrame(df['label'])\n",
    "labels.label[labels.label=='SC']=1\n",
    "labels.label[labels.label=='A']=0"
   ]
  },
  {
   "cell_type": "code",
   "execution_count": 43,
   "metadata": {},
   "outputs": [],
   "source": [
    "df['label']=labels.apply(pd.to_numeric)"
   ]
  },
  {
   "cell_type": "markdown",
   "metadata": {},
   "source": [
    "#### Data analysis\n",
    "#### a.  Missing Values"
   ]
  },
  {
   "cell_type": "code",
   "execution_count": null,
   "metadata": {},
   "outputs": [],
   "source": [
    "## Here we will check the percentage of nan values present in each feature\n",
    "## 1 -step make the list of features which has missing values\n",
    "features_with_na=[features for features in df.columns if df[features].isnull().sum()>1]\n",
    "## 2- step print the feature name and the percentage of missing values\n",
    "\n",
    "if any(df[features_with_na].isnull().any()):\n",
    "    for feature in features_with_na:\n",
    "        print(feature, np.round(df[feature].isnull().mean(), 4), '% missing values')\n",
    "else:\n",
    "    print(\"No missing values in the selected features.\")"
   ]
  },
  {
   "cell_type": "code",
   "execution_count": null,
   "metadata": {},
   "outputs": [],
   "source": [
    "df.nunique()"
   ]
  },
  {
   "cell_type": "markdown",
   "metadata": {},
   "source": [
    "#### b. Plot variables individually w.r.t target"
   ]
  },
  {
   "cell_type": "code",
   "execution_count": 44,
   "metadata": {},
   "outputs": [],
   "source": [
    "X=df[['X_mean', 'Y_mean', 'Z_mean', 'res_mean', 'X_std', 'Y_std', 'Z_std',\n",
    "       'result_std', 'X_median', 'Y_median', 'Z_median', 'result_median',\n",
    "       'fft_coefficients_X', 'fft_coefficients_Y', 'fft_coefficients_Z',\n",
    "       'fft_coefficients_res', 'num_crossing_mean_X', 'num_crossing_mean_Y',\n",
    "       'num_crossing_mean_Z', 'num_crossing_mean_res',\n",
    "       'num_crossing_mean_plus_std_X', 'num_crossing_mean_plus_std_Y',\n",
    "       'num_crossing_mean_plus_std_Z', 'num_crossing_mean_plus_std_res',\n",
    "       'num_crossing_mean_plus_two_std_X', 'num_crossing_mean_plus_two_std_Y',\n",
    "       'num_crossing_mean_plus_two_std_Z',\n",
    "       'num_crossing_mean_plus_two_std_res', 'max_psd_res', 'max_psd_X',\n",
    "       'max_psd_Y', 'max_psd_Z', 'peaks_X_axis', 'peaks_Y_axis',\n",
    "       'peaks_Z_axis', 'spec_entropy_X', 'spec_entropy_Y', 'spec_entropy_Z',\n",
    "       'spec_entropy_res', 'Energy_X', 'Energy_Y', 'Energy_Z', 'Energy_res',\n",
    "       'rms_X', 'rms_Y', 'rms_Z', 'rms_res', 'skew_X', 'skew_Y', 'skew_Z',\n",
    "       'skew_res', 'kurtosis_X', 'kurtosis_Y', 'kurtosis_Z', 'kurtosis_res',\n",
    "       'var_X', 'var_Y', 'var_Z', 'var_res', 'dct_X', 'dct_Y', 'dct_Z',\n",
    "       'dct_res']]\n",
    "y=df[['label']]"
   ]
  },
  {
   "cell_type": "code",
   "execution_count": 31,
   "metadata": {},
   "outputs": [
    {
     "data": {
      "text/plain": [
       "Index(['X_mean', 'Y_mean', 'Z_mean', 'res_mean', 'X_std', 'Y_std', 'Z_std',\n",
       "       'result_std', 'X_median', 'Y_median', 'Z_median', 'result_median',\n",
       "       'fft_coefficients_X', 'fft_coefficients_Y', 'fft_coefficients_Z',\n",
       "       'fft_coefficients_res', 'num_crossing_mean_X', 'num_crossing_mean_Y',\n",
       "       'num_crossing_mean_Z', 'num_crossing_mean_res',\n",
       "       'num_crossing_mean_plus_std_X', 'num_crossing_mean_plus_std_Y',\n",
       "       'num_crossing_mean_plus_std_Z', 'num_crossing_mean_plus_std_res',\n",
       "       'num_crossing_mean_plus_two_std_X', 'num_crossing_mean_plus_two_std_Y',\n",
       "       'num_crossing_mean_plus_two_std_Z',\n",
       "       'num_crossing_mean_plus_two_std_res', 'max_psd_res', 'max_psd_X',\n",
       "       'max_psd_Y', 'max_psd_Z', 'peaks_X_axis', 'peaks_Y_axis',\n",
       "       'peaks_Z_axis', 'spec_entropy_X', 'spec_entropy_Y', 'spec_entropy_Z',\n",
       "       'spec_entropy_res', 'Energy_X', 'Energy_Y', 'Energy_Z', 'Energy_res',\n",
       "       'rms_X', 'rms_Y', 'rms_Z', 'rms_res', 'skew_X', 'skew_Y', 'skew_Z',\n",
       "       'skew_res', 'kurtosis_X', 'kurtosis_Y', 'kurtosis_Z', 'kurtosis_res',\n",
       "       'var_X', 'var_Y', 'var_Z', 'var_res', 'dct_X', 'dct_Y', 'dct_Z',\n",
       "       'dct_res'],\n",
       "      dtype='object')"
      ]
     },
     "execution_count": 31,
     "metadata": {},
     "output_type": "execute_result"
    }
   ],
   "source": [
    "X.columns"
   ]
  },
  {
   "cell_type": "code",
   "execution_count": 32,
   "metadata": {},
   "outputs": [
    {
     "data": {
      "text/plain": [
       "(129, 1)"
      ]
     },
     "execution_count": 32,
     "metadata": {},
     "output_type": "execute_result"
    }
   ],
   "source": [
    "y.shape"
   ]
  },
  {
   "cell_type": "code",
   "execution_count": null,
   "metadata": {
    "scrolled": true
   },
   "outputs": [],
   "source": [
    "##Plot histograms of variables\n",
    "#define format for subplots\n",
    "fig, axis = plt.subplots(7, 9, figsize=(10,13))\n",
    "\n",
    "#create histogram for each column in DataFrame\n",
    "X.hist(ax=axis, edgecolor='black', grid=True)"
   ]
  },
  {
   "cell_type": "markdown",
   "metadata": {},
   "source": [
    "#### c. Convert skewed distributuin to log normal distribution"
   ]
  },
  {
   "cell_type": "code",
   "execution_count": null,
   "metadata": {},
   "outputs": [],
   "source": [
    "for features in X:\n",
    "    df[features]=np.log(df[features])"
   ]
  },
  {
   "cell_type": "code",
   "execution_count": null,
   "metadata": {
    "scrolled": true
   },
   "outputs": [],
   "source": [
    "df.head()"
   ]
  },
  {
   "cell_type": "markdown",
   "metadata": {},
   "source": [
    "#### d. Create boxplot for each feature"
   ]
  },
  {
   "cell_type": "code",
   "execution_count": null,
   "metadata": {},
   "outputs": [],
   "source": [
    "# Number of rows and columns for the subplot grid\n",
    "num_rows = 7\n",
    "num_cols = 9\n",
    "\n",
    "# Create box plots for each feature against the target in a grid\n",
    "fig, axes = plt.subplots(num_rows, num_cols, figsize=(15, 13))\n",
    "\n",
    "# Flatten the 2D array of subplots into a 1D array\n",
    "axes = axes.flatten()\n",
    "\n",
    "# Iterate through features and create box plots\n",
    "for i, feature in enumerate(X):\n",
    "    # Select the current subplot\n",
    "    ax = axes[i]\n",
    "    \n",
    "    # Create box plot\n",
    "    sns.boxplot(x=df['label'], y=feature, data=df, ax=ax)\n",
    "    \n",
    "    # Set title\n",
    "    ax.set_title(f'Box plot of {feature} against target')\n",
    "    \n",
    "# Adjust layout\n",
    "plt.tight_layout()\n",
    "plt.show()"
   ]
  },
  {
   "cell_type": "markdown",
   "metadata": {},
   "source": [
    "#### e. Plot  scatterplots w.r.t target"
   ]
  },
  {
   "cell_type": "code",
   "execution_count": null,
   "metadata": {},
   "outputs": [],
   "source": [
    "sns.scatterplot(x='res_mean', y='num_crossing_mean_plus_std_Y', hue='label', data=df)\n",
    "plt.show()"
   ]
  },
  {
   "cell_type": "markdown",
   "metadata": {},
   "source": [
    "#### f. Plot histograms w.r.t target"
   ]
  },
  {
   "cell_type": "code",
   "execution_count": null,
   "metadata": {},
   "outputs": [],
   "source": [
    "fig, axis = plt.subplots(1, 2, figsize=(7,3))\n",
    "plt.subplot(121)\n",
    "#create histogram for each column in DataFrame\n",
    "sns.histplot(data=df, x='num_crossing_mean_plus_std_X',bins=30,kde=True,color='g')\n",
    "plt.subplot(122)\n",
    "#create histogram for each column in DataFrame\n",
    "sns.histplot(data=df, x='num_crossing_mean_plus_std_Y',bins=30,kde=True,hue='label')\n",
    "plt.show()"
   ]
  },
  {
   "cell_type": "markdown",
   "metadata": {},
   "source": [
    "#### g. Perform Shapiro-Wilk test\n",
    "#### **If p value is < 0.05, sample does not come from a normal distribution i.e. we reject the null hypothesis**\n",
    "#### **If p value is > 0.05, no evidence that sample does not come from a normal distributio i.e. we fail to reject the null hypothesis**\n",
    "\n",
    "\n"
   ]
  },
  {
   "cell_type": "code",
   "execution_count": null,
   "metadata": {},
   "outputs": [],
   "source": [
    "x=shapiro(X)\n",
    "\n",
    "print(f\"Shapiro-Wilk test:{x}\")"
   ]
  },
  {
   "cell_type": "markdown",
   "metadata": {},
   "source": [
    "### Pipeline\n",
    "1. The given dataset does not follow a normal distribution.\n",
    "2. So Normalize or use MinMax scaler the dataset so that each value falls between 0 and 1. \n",
    "3. If the datset follows normal distribution, use Standardization. \n",
    "   StandardScaler rescales dataset to have a mean of 0 and a standard deviation of 1."
   ]
  },
  {
   "cell_type": "code",
   "execution_count": 45,
   "metadata": {},
   "outputs": [],
   "source": [
    "# Create Column Transformer with 3 types of transformers\n",
    "num_features = X.select_dtypes(exclude=\"object\").columns\n",
    "\n",
    "numeric_transformer = MinMaxScaler()\n",
    "\n",
    "preprocessor = ColumnTransformer(\n",
    "    [\n",
    "        (\"MinMaxScaler\", numeric_transformer, num_features),        \n",
    "    ]\n",
    ")"
   ]
  },
  {
   "cell_type": "markdown",
   "metadata": {},
   "source": [
    "### Split the data into training data and testing data"
   ]
  },
  {
   "cell_type": "code",
   "execution_count": 33,
   "metadata": {},
   "outputs": [],
   "source": [
    "X_train, X_test, Y_train, Y_test =train_test_split(X,y,test_size=0.30,random_state=42)"
   ]
  },
  {
   "cell_type": "code",
   "execution_count": null,
   "metadata": {},
   "outputs": [],
   "source": [
    "# summarize the dataset\n",
    "Y_train=np.ravel(Y_train)\n",
    "y=np.ravel(y)\n",
    "print(X_train.shape, Y_train.shape)"
   ]
  },
  {
   "cell_type": "markdown",
   "metadata": {},
   "source": [
    "### Feature selection algorithm: Least absolute shrinkage and selection operator"
   ]
  },
  {
   "cell_type": "code",
   "execution_count": 46,
   "metadata": {},
   "outputs": [
    {
     "data": {
      "text/html": [
       "<style>#sk-container-id-1 {color: black;}#sk-container-id-1 pre{padding: 0;}#sk-container-id-1 div.sk-toggleable {background-color: white;}#sk-container-id-1 label.sk-toggleable__label {cursor: pointer;display: block;width: 100%;margin-bottom: 0;padding: 0.3em;box-sizing: border-box;text-align: center;}#sk-container-id-1 label.sk-toggleable__label-arrow:before {content: \"▸\";float: left;margin-right: 0.25em;color: #696969;}#sk-container-id-1 label.sk-toggleable__label-arrow:hover:before {color: black;}#sk-container-id-1 div.sk-estimator:hover label.sk-toggleable__label-arrow:before {color: black;}#sk-container-id-1 div.sk-toggleable__content {max-height: 0;max-width: 0;overflow: hidden;text-align: left;background-color: #f0f8ff;}#sk-container-id-1 div.sk-toggleable__content pre {margin: 0.2em;color: black;border-radius: 0.25em;background-color: #f0f8ff;}#sk-container-id-1 input.sk-toggleable__control:checked~div.sk-toggleable__content {max-height: 200px;max-width: 100%;overflow: auto;}#sk-container-id-1 input.sk-toggleable__control:checked~label.sk-toggleable__label-arrow:before {content: \"▾\";}#sk-container-id-1 div.sk-estimator input.sk-toggleable__control:checked~label.sk-toggleable__label {background-color: #d4ebff;}#sk-container-id-1 div.sk-label input.sk-toggleable__control:checked~label.sk-toggleable__label {background-color: #d4ebff;}#sk-container-id-1 input.sk-hidden--visually {border: 0;clip: rect(1px 1px 1px 1px);clip: rect(1px, 1px, 1px, 1px);height: 1px;margin: -1px;overflow: hidden;padding: 0;position: absolute;width: 1px;}#sk-container-id-1 div.sk-estimator {font-family: monospace;background-color: #f0f8ff;border: 1px dotted black;border-radius: 0.25em;box-sizing: border-box;margin-bottom: 0.5em;}#sk-container-id-1 div.sk-estimator:hover {background-color: #d4ebff;}#sk-container-id-1 div.sk-parallel-item::after {content: \"\";width: 100%;border-bottom: 1px solid gray;flex-grow: 1;}#sk-container-id-1 div.sk-label:hover label.sk-toggleable__label {background-color: #d4ebff;}#sk-container-id-1 div.sk-serial::before {content: \"\";position: absolute;border-left: 1px solid gray;box-sizing: border-box;top: 0;bottom: 0;left: 50%;z-index: 0;}#sk-container-id-1 div.sk-serial {display: flex;flex-direction: column;align-items: center;background-color: white;padding-right: 0.2em;padding-left: 0.2em;position: relative;}#sk-container-id-1 div.sk-item {position: relative;z-index: 1;}#sk-container-id-1 div.sk-parallel {display: flex;align-items: stretch;justify-content: center;background-color: white;position: relative;}#sk-container-id-1 div.sk-item::before, #sk-container-id-1 div.sk-parallel-item::before {content: \"\";position: absolute;border-left: 1px solid gray;box-sizing: border-box;top: 0;bottom: 0;left: 50%;z-index: -1;}#sk-container-id-1 div.sk-parallel-item {display: flex;flex-direction: column;z-index: 1;position: relative;background-color: white;}#sk-container-id-1 div.sk-parallel-item:first-child::after {align-self: flex-end;width: 50%;}#sk-container-id-1 div.sk-parallel-item:last-child::after {align-self: flex-start;width: 50%;}#sk-container-id-1 div.sk-parallel-item:only-child::after {width: 0;}#sk-container-id-1 div.sk-dashed-wrapped {border: 1px dashed gray;margin: 0 0.4em 0.5em 0.4em;box-sizing: border-box;padding-bottom: 0.4em;background-color: white;}#sk-container-id-1 div.sk-label label {font-family: monospace;font-weight: bold;display: inline-block;line-height: 1.2em;}#sk-container-id-1 div.sk-label-container {text-align: center;}#sk-container-id-1 div.sk-container {/* jupyter's `normalize.less` sets `[hidden] { display: none; }` but bootstrap.min.css set `[hidden] { display: none !important; }` so we also need the `!important` here to be able to override the default hidden behavior on the sphinx rendered scikit-learn.org. See: https://github.com/scikit-learn/scikit-learn/issues/21755 */display: inline-block !important;position: relative;}#sk-container-id-1 div.sk-text-repr-fallback {display: none;}</style><div id=\"sk-container-id-1\" class=\"sk-top-container\"><div class=\"sk-text-repr-fallback\"><pre>Lasso(alpha=1)</pre><b>In a Jupyter environment, please rerun this cell to show the HTML representation or trust the notebook. <br />On GitHub, the HTML representation is unable to render, please try loading this page with nbviewer.org.</b></div><div class=\"sk-container\" hidden><div class=\"sk-item\"><div class=\"sk-estimator sk-toggleable\"><input class=\"sk-toggleable__control sk-hidden--visually\" id=\"sk-estimator-id-1\" type=\"checkbox\" checked><label for=\"sk-estimator-id-1\" class=\"sk-toggleable__label sk-toggleable__label-arrow\">Lasso</label><div class=\"sk-toggleable__content\"><pre>Lasso(alpha=1)</pre></div></div></div></div></div>"
      ],
      "text/plain": [
       "Lasso(alpha=1)"
      ]
     },
     "execution_count": 46,
     "metadata": {},
     "output_type": "execute_result"
    }
   ],
   "source": [
    "lasso_model = Lasso(alpha=1)  \n",
    "lasso_model.fit(X_train, Y_train)"
   ]
  },
  {
   "cell_type": "code",
   "execution_count": 49,
   "metadata": {},
   "outputs": [],
   "source": [
    "y_pred = lasso_model.predict(X_test)"
   ]
  },
  {
   "cell_type": "code",
   "execution_count": 50,
   "metadata": {},
   "outputs": [],
   "source": [
    "feature_coefficients = lasso_model.coef_"
   ]
  },
  {
   "cell_type": "code",
   "execution_count": 51,
   "metadata": {},
   "outputs": [],
   "source": [
    "feature_names=['X_mean', 'Y_mean', 'Z_mean', 'res_mean', 'X_std',\n",
    "       'Y_std', 'Z_std', 'result_std', 'X_median', 'Y_median', 'Z_median',\n",
    "       'result_median', 'fft_coefficients_X', 'fft_coefficients_Y',\n",
    "       'fft_coefficients_Z', 'fft_coefficients_res', 'num_crossing_mean_X',\n",
    "       'num_crossing_mean_Y', 'num_crossing_mean_Z', 'num_crossing_mean_res',\n",
    "       'num_crossing_mean_plus_std_X', 'num_crossing_mean_plus_std_Y',\n",
    "       'num_crossing_mean_plus_std_Z', 'num_crossing_mean_plus_std_res',\n",
    "       'num_crossing_mean_plus_two_std_X', 'num_crossing_mean_plus_two_std_Y',\n",
    "       'num_crossing_mean_plus_two_std_Z',\n",
    "       'num_crossing_mean_plus_two_std_res', 'max_psd_res', 'max_psd_X',\n",
    "       'max_psd_Y', 'max_psd_Z', 'peaks_X_axis', 'peaks_Y_axis',\n",
    "       'peaks_Z_axis', 'spec_entropy_X', 'spec_entropy_Y', 'spec_entropy_Z',\n",
    "       'spec_entropy_res', 'Energy_X', 'Energy_Y', 'Energy_Z', 'Energy_res',\n",
    "       'rms_X', 'rms_Y', 'rms_Z', 'rms_res', 'skew_X', 'skew_Y', 'skew_Z',\n",
    "       'skew_res', 'kurtosis_X', 'kurtosis_Y', 'kurtosis_Z', 'kurtosis_res',\n",
    "       'var_X', 'var_Y', 'var_Z', 'var_res', 'dct_X', 'dct_Y', 'dct_Z',\n",
    "       'dct_res']"
   ]
  },
  {
   "cell_type": "code",
   "execution_count": 52,
   "metadata": {
    "scrolled": true
   },
   "outputs": [
    {
     "data": {
      "image/png": "[encoded data removed]",
      "text/plain": [
       "<Figure size 640x480 with 1 Axes>"
      ]
     },
     "metadata": {},
     "output_type": "display_data"
    }
   ],
   "source": [
    "feature_importance = np.abs(lasso_model.coef_)\n",
    "feature_names = X.columns\n",
    "sorted_idx = np.argsort(feature_importance)\n",
    "\n",
    "plt.barh(range(len(sorted_idx)), feature_importance[sorted_idx])\n",
    "plt.yticks(range(len(sorted_idx)), [feature_names[i] for i in sorted_idx])\n",
    "plt.xlabel('Lasso Coefficient Magnitude')\n",
    "plt.title('Feature Importance (Lasso)')\n",
    "plt.show()"
   ]
  },
  {
   "cell_type": "code",
   "execution_count": 53,
   "metadata": {},
   "outputs": [
    {
     "name": "stdout",
     "output_type": "stream",
     "text": [
      "Most important 5 variables: Index(['Energy_X', 'Energy_res', 'num_crossing_mean_plus_std_Y',\n",
      "       'num_crossing_mean_res', 'num_crossing_mean_plus_std_X'],\n",
      "      dtype='object')\n"
     ]
    }
   ],
   "source": [
    "# Print the most important variables\n",
    "num_top_features = 5  # You can adjust this based on your preference\n",
    "top_features = feature_names[sorted_idx][-num_top_features:]\n",
    "print(f\"Most important {num_top_features} variables: {top_features}\")"
   ]
  },
  {
   "cell_type": "markdown",
   "metadata": {},
   "source": [
    "#### Define train and test dataset based on best features selected"
   ]
  },
  {
   "cell_type": "code",
   "execution_count": 54,
   "metadata": {},
   "outputs": [],
   "source": [
    "y=df[['label']]\n",
    "X=df[['Energy_X', 'Energy_res', 'num_crossing_mean_plus_std_Y',\n",
    "       'num_crossing_mean_res', 'num_crossing_mean_plus_std_X']]"
   ]
  },
  {
   "cell_type": "code",
   "execution_count": 55,
   "metadata": {},
   "outputs": [],
   "source": [
    "X_train, X_test, y_train, y_test =train_test_split(X,y,test_size=0.20,random_state=142)"
   ]
  },
  {
   "cell_type": "code",
   "execution_count": 56,
   "metadata": {},
   "outputs": [
    {
     "name": "stdout",
     "output_type": "stream",
     "text": [
      "(103, 5) (90,)\n"
     ]
    }
   ],
   "source": [
    "# summarize the dataset\n",
    "Y_train=np.ravel(Y_train)\n",
    "y=np.ravel(y)\n",
    "print(X_train.shape, Y_train.shape)"
   ]
  },
  {
   "cell_type": "markdown",
   "metadata": {},
   "source": [
    "### Model fit and evaluation\n",
    "1. Function evaluate_model uses various metrics to determine the model efficiency.\n",
    "2. Different models are trained and tested. Model with high accuracy or lowest mse is selected"
   ]
  },
  {
   "cell_type": "code",
   "execution_count": 57,
   "metadata": {},
   "outputs": [],
   "source": [
    "def evaluate_model_classification(true, predicted):\n",
    "    accuracy=accuracy_score(true, predicted)\n",
    "    F1_score=f1_score(true, predicted)\n",
    "    Confusion_matrix=confusion_matrix(true, predicted)\n",
    "    report=classification_report(true, predicted)\n",
    "    return accuracy, F1_score, report"
   ]
  },
  {
   "cell_type": "code",
   "execution_count": 58,
   "metadata": {},
   "outputs": [
    {
     "name": "stderr",
     "output_type": "stream",
     "text": [
      "C:\\Users\\INGALN01\\AppData\\Local\\anaconda3\\Lib\\site-packages\\sklearn\\utils\\validation.py:1184: DataConversionWarning: A column-vector y was passed when a 1d array was expected. Please change the shape of y to (n_samples, ), for example using ravel().\n",
      "  y = column_or_1d(y, warn=True)\n",
      "C:\\Users\\INGALN01\\AppData\\Local\\anaconda3\\Lib\\site-packages\\sklearn\\utils\\validation.py:1184: DataConversionWarning: A column-vector y was passed when a 1d array was expected. Please change the shape of y to (n_samples, ), for example using ravel().\n",
      "  y = column_or_1d(y, warn=True)\n",
      "C:\\Users\\INGALN01\\AppData\\Local\\anaconda3\\Lib\\site-packages\\sklearn\\utils\\validation.py:1184: DataConversionWarning: A column-vector y was passed when a 1d array was expected. Please change the shape of y to (n_samples, ), for example using ravel().\n",
      "  y = column_or_1d(y, warn=True)\n",
      "C:\\Users\\INGALN01\\AppData\\Local\\anaconda3\\Lib\\site-packages\\sklearn\\base.py:1151: DataConversionWarning: A column-vector y was passed when a 1d array was expected. Please change the shape of y to (n_samples,), for example using ravel().\n",
      "  return fit_method(estimator, *args, **kwargs)\n"
     ]
    },
    {
     "name": "stdout",
     "output_type": "stream",
     "text": [
      "Logistic Regression\n",
      "Model performance for Training set\n",
      "- Accuracy: 0.7767\n",
      "- F1 Score: 0.7928\n",
      "              precision    recall  f1-score   support\n",
      "\n",
      "           0       0.80      0.72      0.76        50\n",
      "           1       0.76      0.83      0.79        53\n",
      "\n",
      "    accuracy                           0.78       103\n",
      "   macro avg       0.78      0.78      0.78       103\n",
      "weighted avg       0.78      0.78      0.78       103\n",
      "\n",
      "\n",
      "----------------------------------\n",
      "Model performance for Test set\n",
      "- Accuracy: 0.7308\n",
      "- F1 Score: 0.7586\n",
      "              precision    recall  f1-score   support\n",
      "\n",
      "           0       0.73      0.67      0.70        12\n",
      "           1       0.73      0.79      0.76        14\n",
      "\n",
      "    accuracy                           0.73        26\n",
      "   macro avg       0.73      0.73      0.73        26\n",
      "weighted avg       0.73      0.73      0.73        26\n",
      "\n",
      "\n",
      "===================================\n",
      "\n",
      "\n",
      "Linear Discriminant Analysis\n",
      "Model performance for Training set\n",
      "- Accuracy: 0.8058\n",
      "- F1 Score: 0.8148\n",
      "              precision    recall  f1-score   support\n",
      "\n",
      "           0       0.81      0.78      0.80        50\n",
      "           1       0.80      0.83      0.81        53\n",
      "\n",
      "    accuracy                           0.81       103\n",
      "   macro avg       0.81      0.81      0.81       103\n",
      "weighted avg       0.81      0.81      0.81       103\n",
      "\n",
      "\n",
      "----------------------------------\n",
      "Model performance for Test set\n",
      "- Accuracy: 0.7308\n",
      "- F1 Score: 0.7586\n",
      "              precision    recall  f1-score   support\n",
      "\n",
      "           0       0.73      0.67      0.70        12\n",
      "           1       0.73      0.79      0.76        14\n",
      "\n",
      "    accuracy                           0.73        26\n",
      "   macro avg       0.73      0.73      0.73        26\n",
      "weighted avg       0.73      0.73      0.73        26\n",
      "\n",
      "\n",
      "===================================\n",
      "\n",
      "\n",
      "Support_vector Machine\n",
      "Model performance for Training set\n",
      "- Accuracy: 0.6311\n",
      "- F1 Score: 0.7077\n",
      "              precision    recall  f1-score   support\n",
      "\n",
      "           0       0.73      0.38      0.50        50\n",
      "           1       0.60      0.87      0.71        53\n",
      "\n",
      "    accuracy                           0.63       103\n",
      "   macro avg       0.66      0.62      0.60       103\n",
      "weighted avg       0.66      0.63      0.61       103\n",
      "\n",
      "\n",
      "----------------------------------\n",
      "Model performance for Test set\n",
      "- Accuracy: 0.6154\n",
      "- F1 Score: 0.7222\n",
      "              precision    recall  f1-score   support\n",
      "\n",
      "           0       0.75      0.25      0.38        12\n",
      "           1       0.59      0.93      0.72        14\n",
      "\n",
      "    accuracy                           0.62        26\n",
      "   macro avg       0.67      0.59      0.55        26\n",
      "weighted avg       0.66      0.62      0.56        26\n",
      "\n",
      "\n",
      "===================================\n",
      "\n",
      "\n",
      "Decision Tree\n",
      "Model performance for Training set\n",
      "- Accuracy: 1.0000\n",
      "- F1 Score: 1.0000\n",
      "              precision    recall  f1-score   support\n",
      "\n",
      "           0       1.00      1.00      1.00        50\n",
      "           1       1.00      1.00      1.00        53\n",
      "\n",
      "    accuracy                           1.00       103\n",
      "   macro avg       1.00      1.00      1.00       103\n",
      "weighted avg       1.00      1.00      1.00       103\n",
      "\n",
      "\n",
      "----------------------------------\n",
      "Model performance for Test set\n",
      "- Accuracy: 0.8846\n",
      "- F1 Score: 0.8966\n",
      "              precision    recall  f1-score   support\n",
      "\n",
      "           0       0.91      0.83      0.87        12\n",
      "           1       0.87      0.93      0.90        14\n",
      "\n",
      "    accuracy                           0.88        26\n",
      "   macro avg       0.89      0.88      0.88        26\n",
      "weighted avg       0.89      0.88      0.88        26\n",
      "\n",
      "\n",
      "===================================\n",
      "\n",
      "\n",
      "Random Forest Classifer\n",
      "Model performance for Training set\n",
      "- Accuracy: 1.0000\n",
      "- F1 Score: 1.0000\n",
      "              precision    recall  f1-score   support\n",
      "\n",
      "           0       1.00      1.00      1.00        50\n",
      "           1       1.00      1.00      1.00        53\n",
      "\n",
      "    accuracy                           1.00       103\n",
      "   macro avg       1.00      1.00      1.00       103\n",
      "weighted avg       1.00      1.00      1.00       103\n",
      "\n",
      "\n",
      "----------------------------------\n",
      "Model performance for Test set\n",
      "- Accuracy: 0.7308\n",
      "- F1 Score: 0.7742\n",
      "              precision    recall  f1-score   support\n",
      "\n",
      "           0       0.78      0.58      0.67        12\n",
      "           1       0.71      0.86      0.77        14\n",
      "\n",
      "    accuracy                           0.73        26\n",
      "   macro avg       0.74      0.72      0.72        26\n",
      "weighted avg       0.74      0.73      0.72        26\n",
      "\n",
      "\n",
      "===================================\n",
      "\n",
      "\n"
     ]
    }
   ],
   "source": [
    "#Use these evaluation metrics for classification\n",
    "models = {\n",
    "    \"Logistic Regression\":LogisticRegression(),\n",
    "    \"Linear Discriminant Analysis\" :LinearDiscriminantAnalysis(),\n",
    "    #\"K-Neighbors Classifer\": KNeighborsClassifier(n_neighbors=2),\n",
    "    \"Support_vector Machine\": svm.SVC(),\n",
    "    \"Decision Tree\": DecisionTreeClassifier(),\n",
    "    \"Random Forest Classifer\":  RandomForestClassifier(), \n",
    "    \n",
    "}\n",
    "model_list = []\n",
    "F1_list =[]\n",
    "accuracy_list=[]\n",
    "\n",
    "\n",
    "for i in range(len(list(models))):\n",
    "    model = list(models.values())[i]\n",
    "    model.fit(X_train, y_train) # Train model\n",
    "\n",
    "    # Make predictions\n",
    "    y_train_pred = model.predict(X_train)\n",
    "    y_test_pred = model.predict(X_test)\n",
    "    \n",
    "    # Evaluate Train and Test dataset\n",
    "    model_train_accuracy,model_train_F1_score,model_train_report = evaluate_model_classification(y_train, y_train_pred)\n",
    "\n",
    "    model_test_accuracy,model_test_F1_score,model_test_report= evaluate_model_classification(y_test, y_test_pred)\n",
    "\n",
    "    \n",
    "    print(list(models.keys())[i])\n",
    "    model_list.append(list(models.keys())[i])\n",
    "    \n",
    "    print('Model performance for Training set')\n",
    "    print(\"- Accuracy: {:.4f}\".format(model_train_accuracy))\n",
    "    print(\"- F1 Score: {:.4f}\".format(model_train_F1_score))\n",
    "    print(\"\".format(print(model_train_report)))\n",
    "    \n",
    "\n",
    "    print('----------------------------------')\n",
    "    \n",
    "    print('Model performance for Test set')\n",
    "    print(\"- Accuracy: {:.4f}\".format(model_test_accuracy))\n",
    "    print(\"- F1 Score: {:.4f}\".format(model_test_F1_score))\n",
    "    print(\"\".format(print(model_test_report)))\n",
    "    \n",
    "    F1_list.append(model_test_F1_score)\n",
    "    accuracy_list.append(model_test_accuracy)\n",
    "    \n",
    "    \n",
    "    print('='*35)\n",
    "    print('\\n')"
   ]
  },
  {
   "cell_type": "code",
   "execution_count": 59,
   "metadata": {},
   "outputs": [
    {
     "data": {
      "text/html": [
       "<div>\n",
       "<style scoped>\n",
       "    .dataframe tbody tr th:only-of-type {\n",
       "        vertical-align: middle;\n",
       "    }\n",
       "\n",
       "    .dataframe tbody tr th {\n",
       "        vertical-align: top;\n",
       "    }\n",
       "\n",
       "    .dataframe thead th {\n",
       "        text-align: right;\n",
       "    }\n",
       "</style>\n",
       "<table border=\"1\" class=\"dataframe\">\n",
       "  <thead>\n",
       "    <tr style=\"text-align: right;\">\n",
       "      <th></th>\n",
       "      <th>Model Name</th>\n",
       "      <th>Accuracy</th>\n",
       "      <th>F1_Score</th>\n",
       "    </tr>\n",
       "  </thead>\n",
       "  <tbody>\n",
       "    <tr>\n",
       "      <th>3</th>\n",
       "      <td>Decision Tree</td>\n",
       "      <td>0.884615</td>\n",
       "      <td>0.896552</td>\n",
       "    </tr>\n",
       "    <tr>\n",
       "      <th>0</th>\n",
       "      <td>Logistic Regression</td>\n",
       "      <td>0.730769</td>\n",
       "      <td>0.758621</td>\n",
       "    </tr>\n",
       "    <tr>\n",
       "      <th>1</th>\n",
       "      <td>Linear Discriminant Analysis</td>\n",
       "      <td>0.730769</td>\n",
       "      <td>0.758621</td>\n",
       "    </tr>\n",
       "    <tr>\n",
       "      <th>4</th>\n",
       "      <td>Random Forest Classifer</td>\n",
       "      <td>0.730769</td>\n",
       "      <td>0.774194</td>\n",
       "    </tr>\n",
       "    <tr>\n",
       "      <th>2</th>\n",
       "      <td>Support_vector Machine</td>\n",
       "      <td>0.615385</td>\n",
       "      <td>0.722222</td>\n",
       "    </tr>\n",
       "  </tbody>\n",
       "</table>\n",
       "</div>"
      ],
      "text/plain": [
       "                     Model Name  Accuracy  F1_Score\n",
       "3                 Decision Tree  0.884615  0.896552\n",
       "0           Logistic Regression  0.730769  0.758621\n",
       "1  Linear Discriminant Analysis  0.730769  0.758621\n",
       "4       Random Forest Classifer  0.730769  0.774194\n",
       "2        Support_vector Machine  0.615385  0.722222"
      ]
     },
     "execution_count": 59,
     "metadata": {},
     "output_type": "execute_result"
    }
   ],
   "source": [
    "pd.DataFrame(list(zip(model_list, accuracy_list,F1_list)), columns=['Model Name', 'Accuracy','F1_Score']).sort_values(by=[\"Accuracy\"],ascending=False)"
   ]
  },
  {
   "cell_type": "code",
   "execution_count": null,
   "metadata": {},
   "outputs": [],
   "source": [
    "###  Select the best model \n",
    "1. Train the selected model and get metric values\n",
    "2. If the metric values are as per expectation, get hyperparameters.\n",
    "3. Save the trained model"
   ]
  },
  {
   "cell_type": "code",
   "execution_count": null,
   "metadata": {},
   "outputs": [],
   "source": [
    "rf=RandomForestClassifier(X_train,y_train)"
   ]
  },
  {
   "cell_type": "code",
   "execution_count": null,
   "metadata": {},
   "outputs": [],
   "source": [
    "y_pred=rf.predict(X_test)"
   ]
  },
  {
   "cell_type": "code",
   "execution_count": null,
   "metadata": {},
   "outputs": [],
   "source": [
    "accuracy=accuracy_score(y_test,y_pred)\n",
    "print('Accuracy :',accuracy)\n",
    "f1score=f1_score(y_test,y_pred)\n",
    "print('F1_score :',f1score)\n",
    "mse=mean_squared_error(y_test,y_pred)\n",
    "print('Mean_squared_error :',mse)"
   ]
  },
  {
   "cell_type": "code",
   "execution_count": null,
   "metadata": {},
   "outputs": [],
   "source": [
    "matrix = confusion_matrix(y_test,y_pred)\n",
    "print(classification_report(y_test,y_pred))"
   ]
  },
  {
   "cell_type": "code",
   "execution_count": null,
   "metadata": {},
   "outputs": [],
   "source": [
    "matrix = confusion_matrix(y_test,y_pred)\n",
    "sns.heatmap(matrix, annot=True, fmt=\"d\")\n",
    "plt.title('Confusion Matrix')\n",
    "plt.xlabel('Predicted')\n",
    "plt.ylabel('True')"
   ]
  },
  {
   "cell_type": "code",
   "execution_count": null,
   "metadata": {},
   "outputs": [],
   "source": [
    "#Cross validation\n",
    "k = 11  # You can adjust this value based on your needs\n",
    "\n",
    "# Create a KFold cross-validation object\n",
    "kf = KFold(n_splits=k, shuffle=True, random_state=42)\n",
    "\n",
    "# Perform k-fold cross-validation and specify the scoring metric (e.g., accuracy)\n",
    "scores = cross_val_score(rf, X, y, cv=kf, scoring='accuracy')\n",
    "\n",
    "# Print the cross-validation scores and their mean\n",
    "print(\"Cross-validation scores:\", scores)\n",
    "print(\"Mean CV accuracy:\", scores.mean())"
   ]
  },
  {
   "cell_type": "code",
   "execution_count": null,
   "metadata": {},
   "outputs": [],
   "source": [
    "# Get hyperparameter values\n",
    "hyperparameters = rf.get_params()\n",
    "print(\"Hyperparameters:\", hyperparameters)"
   ]
  },
  {
   "cell_type": "code",
   "execution_count": null,
   "metadata": {},
   "outputs": [],
   "source": [
    "### Download the model"
   ]
  },
  {
   "cell_type": "code",
   "execution_count": null,
   "metadata": {},
   "outputs": [],
   "source": [
    "# Save the trained model to a file\n",
    "joblib.dump(rf, 'trained_model.joblib')"
   ]
  },
  {
   "cell_type": "code",
   "execution_count": null,
   "metadata": {},
   "outputs": [],
   "source": [
    "# Save hyperparameters to a file (can use a dictionary)\n",
    "hyperparameters = {'bootstrap': True, 'ccp_alpha': 0.0, 'class_weight': None, 'criterion': 'gini', 'max_depth': None, 'max_features': 'sqrt', 'max_leaf_nodes': None, 'max_samples': None, 'min_impurity_decrease': 0.0, 'min_samples_leaf': 1, 'min_samples_split': 2, 'min_weight_fraction_leaf': 0.0, 'n_estimators': 100, 'n_jobs': None, 'oob_score': False, 'random_state': None, 'verbose': 0, 'warm_start': False}\n",
    "joblib.dump(hyperparameters, 'hyperparameters.joblib')"
   ]
  },
  {
   "cell_type": "code",
   "execution_count": null,
   "metadata": {},
   "outputs": [],
   "source": [
    "# Load the trained model\n",
    "loaded_model = joblib.load('trained_model.joblib')\n",
    "\n",
    "# Load hyperparameters\n",
    "loaded_hyperparameters = joblib.load('hyperparameters.joblib')"
   ]
  },
  {
   "cell_type": "code",
   "execution_count": null,
   "metadata": {},
   "outputs": [],
   "source": [
    "### Validate the saved model \n",
    "1. Use the saved model to predict the values on test data of different sizes"
   ]
  },
  {
   "cell_type": "code",
   "execution_count": null,
   "metadata": {},
   "outputs": [],
   "source": [
    "predictions=loaded_model.predict(X_test)"
   ]
  },
  {
   "cell_type": "code",
   "execution_count": null,
   "metadata": {},
   "outputs": [],
   "source": [
    "accuracy=accuracy_score(y_test,predictions)\n",
    "print('Accuracy :',accuracy)\n",
    "f1score=f1_score(y_test,predictions)\n",
    "print('F1_score :',f1score)\n",
    "mse=mean_squared_error(y_test,predictions)\n",
    "print('Mean_squared_error :',mse)"
   ]
  }
 ],
 "metadata": {
  "kernelspec": {
   "display_name": "Python 3",
   "language": "python",
   "name": "python3"
  },
  "language_info": {
   "codemirror_mode": {
    "name": "ipython",
    "version": 3
   },
   "file_extension": ".py",
   "mimetype": "text/x-python",
   "name": "python",
   "nbconvert_exporter": "python",
   "pygments_lexer": "ipython3",
   "version": "3.8.5"
  }
 },
 "nbformat": 4,
 "nbformat_minor": 5
}
